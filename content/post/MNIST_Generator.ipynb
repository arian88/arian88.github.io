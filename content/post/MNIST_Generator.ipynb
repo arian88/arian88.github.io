{
  "nbformat": 4,
  "nbformat_minor": 0,
  "metadata": {
    "colab": {
      "name": "MNIST_Generator.ipynb",
      "provenance": [],
      "collapsed_sections": [],
      "toc_visible": true
    },
    "kernelspec": {
      "name": "python3",
      "display_name": "Python 3"
    },
    "accelerator": "GPU"
  },
  "cells": [
    {
      "cell_type": "markdown",
      "metadata": {
        "id": "SfL-ohXzJOnJ",
        "colab_type": "text"
      },
      "source": [
        "## Import packages\n",
        "\n",
        "In this project we were using **Tensorflow 2.2.0** which is latest stabile Tensorflow version as of the time of writing this article.\n",
        "\n",
        "The auxiliary packages are as follows:\n",
        "- **numpy:** Numeric processing, especially n-dimensional matrix\n",
        "- **matplot:** Image visualization and mathematical plots\n",
        "- **tensorflow_addons:** Adds-on and extension of Tensorflow"
      ]
    },
    {
      "cell_type": "code",
      "metadata": {
        "id": "a0FWnNYUDfT_",
        "colab_type": "code",
        "outputId": "09bef96a-b073-4e1c-8448-ba3da1fcc155",
        "colab": {
          "base_uri": "https://localhost:8080/",
          "height": 311
        }
      },
      "source": [
        "# Make sure that you are working on CUDA-enabled GPUs if any available\n",
        "!nvidia-smi"
      ],
      "execution_count": 0,
      "outputs": [
        {
          "output_type": "stream",
          "text": [
            "Mon May 25 01:38:46 2020       \n",
            "+-----------------------------------------------------------------------------+\n",
            "| NVIDIA-SMI 440.82       Driver Version: 418.67       CUDA Version: 10.1     |\n",
            "|-------------------------------+----------------------+----------------------+\n",
            "| GPU  Name        Persistence-M| Bus-Id        Disp.A | Volatile Uncorr. ECC |\n",
            "| Fan  Temp  Perf  Pwr:Usage/Cap|         Memory-Usage | GPU-Util  Compute M. |\n",
            "|===============================+======================+======================|\n",
            "|   0  Tesla P100-PCIE...  Off  | 00000000:00:04.0 Off |                    0 |\n",
            "| N/A   56C    P0    44W / 250W |   4681MiB / 16280MiB |      0%      Default |\n",
            "+-------------------------------+----------------------+----------------------+\n",
            "                                                                               \n",
            "+-----------------------------------------------------------------------------+\n",
            "| Processes:                                                       GPU Memory |\n",
            "|  GPU       PID   Type   Process name                             Usage      |\n",
            "|=============================================================================|\n",
            "+-----------------------------------------------------------------------------+\n"
          ],
          "name": "stdout"
        }
      ]
    },
    {
      "cell_type": "code",
      "metadata": {
        "id": "hp1AOCNPIAFT",
        "colab_type": "code",
        "outputId": "0e02575d-387a-49ef-b39e-183b8370f9b2",
        "colab": {
          "base_uri": "https://localhost:8080/",
          "height": 54
        }
      },
      "source": [
        "import os\n",
        "import datetime\n",
        "import numpy as np\n",
        "import matplotlib.pyplot as plt\n",
        "from sklearn.model_selection import train_test_split\n",
        "\n",
        "import tensorflow as tf\n",
        "\n",
        "print('Tensorflow: {0}'.format(tf.__version__))\n",
        "print('Keras: {0}'.format(tf.keras.__version__))"
      ],
      "execution_count": 0,
      "outputs": [
        {
          "output_type": "stream",
          "text": [
            "Tensorflow: 2.2.0\n",
            "Keras: 2.3.0-tf\n"
          ],
          "name": "stdout"
        }
      ]
    },
    {
      "cell_type": "markdown",
      "metadata": {
        "id": "HsUe1bnTXPHz",
        "colab_type": "text"
      },
      "source": [
        "# **Data loading and preprocessing**\n",
        "\n",
        "Keras is providing some very basic but common [built-in datasets](https://keras.io/api/datasets/).  \n",
        "For vision, MNIST, Fashin-MNIST, CIFAR10 and CIFAR100 is available.  \n",
        "This is a very concinient way to load basic datasets for fast prototyping, and Keras will download (if necessary), extract and load the dataset.  \n",
        "\n",
        "However, if it is required to work with more complex and customised datasets, modified dataloader is needed. This can be done in several ways including [tf.data.Dataset](https://www.tensorflow.org/api_docs/python/tf/data/Dataset).\n",
        "\n",
        "In this article [Fashion-MNIST](https://github.com/zalandoresearch/fashion-mnist) is used. This dataset has 60 000 and 10 000 images for training and test, respectively. Each image has the resolution of 28x28x1 with a pixel range between 0 and 255.  \n",
        "\n",
        "In most scenarios, it is desirable to have individual and isolated sets. A common split is as follows:  \n",
        "- **Train:** This will be used during the training process. It is very common to perform different augmentation on this set to generate more images. For instance an image can be cropped, flipped and roatated with arbitary parameters to have more images for training.\n",
        "- **Validation:** During the training, it is desirable to monitor the model's performance with appropriate metrics or even in some cases visually. This monitoring process can be done between training steps, for instance at the end of each epoch. This set can be used for this reason. It is not common to perform any augmentation on this set.\n",
        "- **Test:** Once the training process is finished, the model should be tested on a set which has not been seen before. This will verify the generalization of the model. A good model which is not overfitted and memorized should perform well under this condition.\n",
        "\n"
      ]
    },
    {
      "cell_type": "code",
      "metadata": {
        "id": "G0c-4K1-qH8_",
        "colab_type": "code",
        "colab": {}
      },
      "source": [
        "IMAGE_DIMENSION = 28"
      ],
      "execution_count": 0,
      "outputs": []
    },
    {
      "cell_type": "code",
      "metadata": {
        "id": "lIRrsVz8iqB2",
        "colab_type": "code",
        "outputId": "492772fa-6a93-4d02-fcf6-44d2b9206078",
        "colab": {
          "base_uri": "https://localhost:8080/",
          "height": 72
        }
      },
      "source": [
        "# Download and load Fashion MNIST from Keras built-in datasets \n",
        "(x_train, y_train), (x_test, y_test) = tf.keras.datasets.fashion_mnist.load_data()\n",
        "\n",
        "# Spliting the training set into training and validation with a ratio of 0.8 : 0.2\n",
        "x_train, x_val, y_train, y_val = train_test_split(x_train, y_train, test_size=0.2)\n",
        "\n",
        "print('Training set:   \\t Input {0} -\\t Output {1}'.format(x_train.shape, y_train.shape))\n",
        "print('Validation set: \\t Input {0} -\\t Output {1}'.format(x_val.shape, y_val.shape))\n",
        "print('Test set:       \\t Input {0} -\\t Output {1}'.format(x_test.shape, y_test.shape))"
      ],
      "execution_count": 0,
      "outputs": [
        {
          "output_type": "stream",
          "text": [
            "Training set:   \t Input (48000, 28, 28) -\t Output (48000,)\n",
            "Validation set: \t Input (12000, 28, 28) -\t Output (12000,)\n",
            "Test set:       \t Input (10000, 28, 28) -\t Output (10000,)\n"
          ],
          "name": "stdout"
        }
      ]
    },
    {
      "cell_type": "code",
      "metadata": {
        "id": "weC5Rp6eIVg7",
        "colab_type": "code",
        "colab": {}
      },
      "source": [
        "labels_desc = {0: 'T-shirt/top',\n",
        "               1: 'Trouser',\n",
        "               2: 'Pullover',\n",
        "               3: 'Dress',\n",
        "               4: 'Coat',\n",
        "               5: 'Sandal',\n",
        "               6: 'Shirt',\n",
        "               7: 'Sneaker',\n",
        "               8: 'Bag',\n",
        "               9: 'Ankle boot'}"
      ],
      "execution_count": 0,
      "outputs": []
    },
    {
      "cell_type": "markdown",
      "metadata": {
        "id": "833G_W-6-EAL",
        "colab_type": "text"
      },
      "source": [
        "## Normalization\n",
        "\n",
        "A neural network can take multiple features where each can have different properties such as types, scale, range etc. A feature should not affect the network because of its characteristic such as range if this is not desired. Hence all features should be normalized so that each feature is within the appropriate range and scale.  \n",
        "\n",
        "In addiiton to the normalization, neural network are working better with floating-points for more accuracy and performance. Floating-point 16 or 32 is widly used for parameters and in training. However, other datatypes and precision can be desireable depending on the hardware constrains and GPU optimization.\n",
        "\n",
        "The being said, there are two type of normalization that is commonly used for neural networks.\n",
        "\n",
        "- Normalize the features with a range of [0 : +1]  \n",
        "- Normalize the features with respect to its mean and variance. The equation is as follows:  \n",
        "<img src=\"https://latex.codecogs.com/svg.latex?\\Large&space;x=\\frac{x - \\mu}{\\sigma}\" />  \n",
        "where mu is the mean and sigma is the variance of the feature.  \n",
        "*Note that in the most cases each channel is calculcated individual and independed to each other.*\n",
        "\n"
      ]
    },
    {
      "cell_type": "code",
      "metadata": {
        "id": "ok2rlCNjOZ7k",
        "colab_type": "code",
        "colab": {}
      },
      "source": [
        "# Normalization\n",
        "# The features in Fashion MNIST [0:255]\n",
        "\n",
        "# Normalize images from [0:255] -> [0:1] and convert it to 32-bit floating-points\n",
        "x_train = x_train / 255.0\n",
        "x_train = x_train.astype(np.float32)\n",
        "x_train = np.expand_dims(x_train, axis=-1)\n",
        "\n",
        "x_val = x_val / 255.0\n",
        "x_val = x_val.astype(np.float32)\n",
        "x_val = np.expand_dims(x_val, axis=-1)\n",
        "\n",
        "x_test = x_test / 255.0\n",
        "x_test = x_test.astype(np.float32)\n",
        "x_test = np.expand_dims(x_test, axis=-1)"
      ],
      "execution_count": 0,
      "outputs": []
    },
    {
      "cell_type": "code",
      "metadata": {
        "id": "wEhXjE5xMACR",
        "colab_type": "code",
        "outputId": "068952ee-9c06-4585-833d-459d3e112e80",
        "colab": {
          "base_uri": "https://localhost:8080/",
          "height": 444
        }
      },
      "source": [
        "# Plot random images from training set\n",
        "random_idx = np.random.randint(0, len(x_train), 9)\n",
        "\n",
        "_, axs = plt.subplots(3, 3, figsize=(IMAGE_DIMENSION // 4, IMAGE_DIMENSION // 4))\n",
        "axs = axs.flatten()\n",
        "for idx, ax in zip(random_idx, axs):\n",
        "    image = np.squeeze(x_train[idx])\n",
        "    label = labels_desc[y_train[idx]]\n",
        "    ax.imshow(image)\n",
        "    ax.set_title(label)\n",
        "plt.show()"
      ],
      "execution_count": 0,
      "outputs": [
        {
          "output_type": "display_data",
          "data": {
            "image/png": "[encoded data removed]",
            "text/plain": [
              "<Figure size 504x504 with 9 Axes>"
            ]
          },
          "metadata": {
            "tags": [],
            "needs_background": "light"
          }
        }
      ]
    },
    {
      "cell_type": "code",
      "metadata": {
        "id": "EHCw54wOOyrT",
        "colab_type": "code",
        "outputId": "f989355a-6017-40e8-be76-2d3b72ed1868",
        "colab": {
          "base_uri": "https://localhost:8080/",
          "height": 432
        }
      },
      "source": [
        "# The histogram should show the range of pixel values along with its frequency of occurrence\n",
        "# In this way we can observe that our pixel values are within the desirable range\n",
        "\n",
        "_, axs = plt.subplots(3, 3, figsize=(IMAGE_DIMENSION // 4, IMAGE_DIMENSION // 4))\n",
        "axs = axs.flatten()\n",
        "for idx, ax in zip(random_idx, axs):\n",
        "    image = x_train[idx].flatten()\n",
        "    ax.hist(image, bins=10)\n",
        "plt.show()"
      ],
      "execution_count": 0,
      "outputs": [
        {
          "output_type": "display_data",
          "data": {
            "image/png": "[encoded data removed]",
            "text/plain": [
              "<Figure size 504x504 with 9 Axes>"
            ]
          },
          "metadata": {
            "tags": [],
            "needs_background": "light"
          }
        }
      ]
    },
    {
      "cell_type": "markdown",
      "metadata": {
        "id": "SOgx1m44wHO4",
        "colab_type": "text"
      },
      "source": [
        "# Dataloader"
      ]
    },
    {
      "cell_type": "markdown",
      "metadata": {
        "id": "DmQvsjlnLBEU",
        "colab_type": "text"
      },
      "source": [
        "## Data augmentation\n",
        "\n",
        "Data is one of the major and important component in deep learning but in most common cases the training data is limited. Hence we need to try to reproduce more examples in respect and based on the available data.  \n",
        "Another important reason is that we want to make our model generalized as much as possible. We want a model that is performonig great on unseen and unfamiliar data and prevent a model to memorize a mapping.  \n",
        "Limited available data along with poor regularization techniqes will make the model to overfit which means that the model is working great on training set, but failing once it is evaluated on unseen data such as test set.  \n",
        "Data augmentation is very important part of preprocessing and can be a major help for preventing a model to overfit on limited data.\n",
        "\n",
        "There are mulitple data augmentation techniques depending on the feature type and its charactersitc. Some of the common data augmentation on images are mentioned in list belows:\n",
        "\n",
        "- **Flip:** The image can be randomly flipped either up and down or left or right.\n",
        "- **Rotation:**: Random rotation within a certain of degree.\n",
        "- **Brightness**: Makes the image more or less brighter. In the case of grayscale images, it scales the pixel values.\n",
        "- **Channel shifting**: Shifting channels when the image has multiple channels such as 3-channels (RGB).\n",
        "\n",
        "*Note that in some cases we want to maintain characteristic of the image such as natural images. Hence some augmentation techniques may not be appropriate.*\n",
        "\n",
        "More advavanced augmentations:\n",
        "-"
      ]
    },
    {
      "cell_type": "code",
      "metadata": {
        "id": "VNP6ngU2a7np",
        "colab_type": "code",
        "colab": {}
      },
      "source": [
        "def data_augmentation(image):\n",
        "    # Rotation\n",
        "    image = tf.image.rot90(image, tf.random.uniform(shape=[], minval=0, maxval=4, dtype=tf.int32))\n",
        "    # Random flip: {up or down, left or right}\n",
        "    image = tf.image.random_flip_up_down(image)\n",
        "    image = tf.image.random_flip_left_right(image)\n",
        "    return image"
      ],
      "execution_count": 0,
      "outputs": []
    },
    {
      "cell_type": "code",
      "metadata": {
        "id": "KqvshiXlwK8U",
        "colab_type": "code",
        "colab": {}
      },
      "source": [
        "BATCH_SIZE = 1024\n",
        "REPEAT_DATASET_PER_EPOCH = 10\n",
        "\n",
        "# Dataloader\n",
        "train_dataset = tf.data.Dataset.from_tensor_slices(x_train)\n",
        "train_dataset = train_dataset.map(data_augmentation, num_parallel_calls=tf.data.experimental.AUTOTUNE)\n",
        "train_dataset = train_dataset.shuffle(buffer_size=10_000)\n",
        "train_dataset = train_dataset.batch(BATCH_SIZE)\n",
        "train_dataset = train_dataset.repeat(REPEAT_DATASET_PER_EPOCH)\n",
        "train_dataset = train_dataset.prefetch(BATCH_SIZE)"
      ],
      "execution_count": 0,
      "outputs": []
    },
    {
      "cell_type": "code",
      "metadata": {
        "id": "1TzcA_S3Bzpd",
        "colab_type": "code",
        "outputId": "7e66e18e-a7a4-4ce1-dda6-6f011c1f0639",
        "colab": {
          "base_uri": "https://localhost:8080/",
          "height": 444
        }
      },
      "source": [
        "images = train_dataset.take(9)\n",
        "\n",
        "_, axs = plt.subplots(3, 3, figsize=(IMAGE_DIMENSION // 4, IMAGE_DIMENSION // 4))\n",
        "axs = axs.flatten()\n",
        "for idx, (image, ax) in enumerate(zip(images, axs)):\n",
        "    image = np.squeeze(x_train[idx])\n",
        "    label = labels_desc[y_train[idx]]\n",
        "    ax.imshow(image)\n",
        "    ax.set_title(label)\n",
        "plt.show()"
      ],
      "execution_count": 0,
      "outputs": [
        {
          "output_type": "display_data",
          "data": {
            "image/png": "[encoded data removed]",
            "text/plain": [
              "<Figure size 504x504 with 9 Axes>"
            ]
          },
          "metadata": {
            "tags": [],
            "needs_background": "light"
          }
        }
      ]
    },
    {
      "cell_type": "markdown",
      "metadata": {
        "id": "qSvS802VXVEU",
        "colab_type": "text"
      },
      "source": [
        "# **Autoencoder**"
      ]
    },
    {
      "cell_type": "code",
      "metadata": {
        "id": "vgw6TBeGXn4c",
        "colab_type": "code",
        "colab": {}
      },
      "source": [
        "LATENT_DIMENSION = 100"
      ],
      "execution_count": 0,
      "outputs": []
    },
    {
      "cell_type": "markdown",
      "metadata": {
        "id": "aGGO9d_GuV1b",
        "colab_type": "text"
      },
      "source": [
        "## Loss"
      ]
    },
    {
      "cell_type": "code",
      "metadata": {
        "id": "OBrAW5E7uXzl",
        "colab_type": "code",
        "colab": {}
      },
      "source": [
        "def mean_squared_error(y_true, y_pred):\n",
        "    return tf.reduce_mean((y_true - y_pred)**2)"
      ],
      "execution_count": 0,
      "outputs": []
    },
    {
      "cell_type": "markdown",
      "metadata": {
        "id": "CTZi9Uzm_4ZA",
        "colab_type": "text"
      },
      "source": [
        "## Encoder"
      ]
    },
    {
      "cell_type": "code",
      "metadata": {
        "id": "trOiaKLFX9If",
        "colab_type": "code",
        "colab": {}
      },
      "source": [
        "class Encoder(tf.keras.Model):\n",
        "\n",
        "    def __init__(self, latent_dim=1024, *args, **kwargs):\n",
        "        super(Encoder, self).__init__(*args, **kwargs)\n",
        "        self.latent_dim = latent_dim\n",
        "\n",
        "        # Layers\n",
        "        self.conv_1 = tf.keras.layers.Conv2D(filters=32, kernel_size=3, padding='same')\n",
        "        self.bn_1 = tf.keras.layers.BatchNormalization()\n",
        "        self.conv_2 = tf.keras.layers.Conv2D(filters=64, kernel_size=3, padding='same')\n",
        "        self.bn_2 = tf.keras.layers.BatchNormalization()\n",
        "        self.conv_3 = tf.keras.layers.Conv2D(filters=128, kernel_size=3, padding='same')\n",
        "        self.bn_3 = tf.keras.layers.BatchNormalization()\n",
        "        self.dense_1 = tf.keras.layers.Dense(units=self.latent_dim)\n",
        "\n",
        "    def call(self, inputs):\n",
        "        # Convlution 1\n",
        "        x = self.conv_1(inputs)\n",
        "        x = self.bn_1(x)\n",
        "        x = tf.keras.activations.relu(x)\n",
        "        x = tf.keras.layers.MaxPooling2D(pool_size=2)(x)\n",
        "        # Convlution 2\n",
        "        x = self.conv_2(x)\n",
        "        x = self.bn_2(x)\n",
        "        x = tf.keras.activations.relu(x)\n",
        "        x = tf.keras.layers.MaxPooling2D(pool_size=2)(x)\n",
        "        # Convlution 3\n",
        "        x = self.conv_3(x)\n",
        "        x = self.bn_3(x)\n",
        "        x = tf.keras.activations.relu(x)\n",
        "        x = tf.keras.layers.MaxPooling2D(pool_size=2)(x)\n",
        "        # Dense\n",
        "        x = tf.keras.layers.Flatten()(x)\n",
        "        x = self.dense_1(x)\n",
        "\n",
        "        return x"
      ],
      "execution_count": 0,
      "outputs": []
    },
    {
      "cell_type": "markdown",
      "metadata": {
        "id": "faaNBhRWAq3W",
        "colab_type": "text"
      },
      "source": [
        "## Decoder"
      ]
    },
    {
      "cell_type": "code",
      "metadata": {
        "id": "U36SIG1lAszc",
        "colab_type": "code",
        "colab": {}
      },
      "source": [
        "class Decoder(tf.keras.Model):\n",
        "\n",
        "    def __init__(self, latent_dim=1024, *args, **kwargs):\n",
        "        super(Decoder, self).__init__(*args, **kwargs)\n",
        "        self.latent_dim = latent_dim\n",
        "\n",
        "        # Layers\n",
        "        self.dense_1 = tf.keras.layers.Dense(units=2048)\n",
        "        self.conv_trans_1 = tf.keras.layers.Conv2DTranspose(filters=128, \n",
        "                                                            kernel_size=3, \n",
        "                                                            strides=2,\n",
        "                                                            padding='same')\n",
        "        self.bn_1 = tf.keras.layers.BatchNormalization()\n",
        "        self.conv_trans_2 = tf.keras.layers.Conv2DTranspose(filters=64,\n",
        "                                                            kernel_size=3, \n",
        "                                                            strides=2,\n",
        "                                                            padding='same')\n",
        "        self.bn_2 = tf.keras.layers.BatchNormalization()\n",
        "        self.conv_1 = tf.keras.layers.Conv2D(filters=1, kernel_size=3, padding='same')\n",
        "\n",
        "    def call(self, inputs):\n",
        "        # Dense\n",
        "        x = self.dense_1(inputs)\n",
        "        x = tf.keras.activations.relu(x)\n",
        "        x = tf.keras.layers.Reshape((8, 8, 32))(x)\n",
        "        # Transpose Convolution 1\n",
        "        x = self.conv_trans_1(x)\n",
        "        x = self.bn_1(x)\n",
        "        x = tf.keras.activations.relu(x)\n",
        "        # Transpose Convolution 2\n",
        "        x = self.conv_trans_2(x)\n",
        "        x = self.bn_2(x)\n",
        "        x = tf.keras.activations.relu(x)\n",
        "        # Convlution 1\n",
        "        x = tf.keras.layers.Cropping2D(cropping=((2, 2), (2, 2)))(x)\n",
        "        x = self.conv_1(x)\n",
        "        x = tf.keras.activations.sigmoid(x)\n",
        "\n",
        "        return x"
      ],
      "execution_count": 0,
      "outputs": []
    },
    {
      "cell_type": "markdown",
      "metadata": {
        "id": "HaXISK27jPwi",
        "colab_type": "text"
      },
      "source": [
        "## Autoencoder"
      ]
    },
    {
      "cell_type": "code",
      "metadata": {
        "id": "9-XLG4rB7Fao",
        "colab_type": "code",
        "colab": {}
      },
      "source": [
        "class Autoencoder(tf.keras.Model):\n",
        "\n",
        "    def __init__(self, encoder_cls, decoder_cls, latent_dim):\n",
        "        super(Autoencoder, self).__init__()\n",
        "        self.latent_dim = latent_dim\n",
        "        # Encoder\n",
        "        self.encoder = encoder_cls(self.latent_dim, name='Encoder')\n",
        "        # Decoder\n",
        "        self.decoder = decoder_cls(self.latent_dim, name='Decoder')\n",
        "        \n",
        "    def compile(self, optimizer, loss):\n",
        "        super(Autoencoder, self).compile()\n",
        "        self.optimizer = optimizer\n",
        "        self.loss = loss\n",
        "\n",
        "    def call(self, inputs):\n",
        "        x = self.encoder(inputs)\n",
        "        x = self.decoder(x)\n",
        "        return x\n",
        "\n",
        "    def train_step(self, images):\n",
        "        with tf.GradientTape() as tape:\n",
        "            latent_vector = self.encoder(images)\n",
        "            reconstruction = self.decoder(latent_vector)\n",
        "            loss = self.loss(images, reconstruction)\n",
        "\n",
        "        grads = tape.gradient(loss, self.trainable_variables)\n",
        "        self.optimizer.apply_gradients(zip(grads, self.trainable_variables))\n",
        "\n",
        "        return {'loss': loss}\n"
      ],
      "execution_count": 0,
      "outputs": []
    },
    {
      "cell_type": "code",
      "metadata": {
        "id": "xNcsGUGvnmEa",
        "colab_type": "code",
        "colab": {}
      },
      "source": [
        "autoencoder = Autoencoder(encoder_cls=Encoder, decoder_cls=Decoder, \n",
        "                          latent_dim=LATENT_DIMENSION)\n",
        "# Optimizer, loss\n",
        "adam_optimizer = tf.keras.optimizers.Adam()\n",
        "autoencoder.compile(optimizer=adam_optimizer, loss=mean_squared_error)"
      ],
      "execution_count": 0,
      "outputs": []
    },
    {
      "cell_type": "code",
      "metadata": {
        "id": "SUNF3sFqFMF_",
        "colab_type": "code",
        "outputId": "992b83a0-831e-4813-dfab-10e84178a1e1",
        "colab": {
          "base_uri": "https://localhost:8080/",
          "height": 256
        }
      },
      "source": [
        "# Inference\n",
        "noise = tf.random.normal(shape=[1, IMAGE_DIMENSION, IMAGE_DIMENSION, 1])\n",
        "reconstruction = autoencoder(noise)\n",
        "print('Input: {0} - Output: {1}'.format(noise.shape, reconstruction.shape))\n",
        "autoencoder.summary()"
      ],
      "execution_count": 0,
      "outputs": [
        {
          "output_type": "stream",
          "text": [
            "Input: (1, 28, 28, 1) - Output: (1, 28, 28, 1)\n",
            "Model: \"autoencoder_2\"\n",
            "_________________________________________________________________\n",
            "Layer (type)                 Output Shape              Param #   \n",
            "=================================================================\n",
            "Encoder (Encoder)            multiple                  208868    \n",
            "_________________________________________________________________\n",
            "Decoder (Decoder)            multiple                  318977    \n",
            "=================================================================\n",
            "Total params: 527,845\n",
            "Trainable params: 527,013\n",
            "Non-trainable params: 832\n",
            "_________________________________________________________________\n"
          ],
          "name": "stdout"
        }
      ]
    },
    {
      "cell_type": "markdown",
      "metadata": {
        "id": "TipVRu2kkhOD",
        "colab_type": "text"
      },
      "source": [
        "## Callbacks"
      ]
    },
    {
      "cell_type": "code",
      "metadata": {
        "id": "nLTSJNjski4D",
        "colab_type": "code",
        "colab": {}
      },
      "source": [
        "class DigitPlotCallback(tf.keras.callbacks.Callback):\n",
        "    def on_epoch_end(self, epoch, logs=None):\n",
        "        if (epoch % 2) != 0:\n",
        "            return\n",
        "            \n",
        "        random_idx = np.random.randint(0, len(x_val), 2)\n",
        "        image = x_val[random_idx]\n",
        "        reconstruction = self.model(image)\n",
        "\n",
        "        fig = plt.figure()\n",
        "        plot_counter = 1\n",
        "        for idx in range(0, 2):\n",
        "            ax = fig.add_subplot(2, 2, plot_counter)\n",
        "            ax.imshow(np.squeeze(image[idx]))\n",
        "            plot_counter = plot_counter + 1\n",
        "\n",
        "            ax = fig.add_subplot(2, 2, plot_counter)\n",
        "            ax.imshow(np.squeeze(reconstruction[idx]))\n",
        "            plot_counter = plot_counter + 1\n",
        "\n",
        "digit_plot_callback = DigitPlotCallback()"
      ],
      "execution_count": 0,
      "outputs": []
    },
    {
      "cell_type": "code",
      "metadata": {
        "id": "ek-IwH8H4cEE",
        "colab_type": "code",
        "colab": {}
      },
      "source": [
        "logdir = os.path.join(\"logs\", datetime.datetime.now().strftime(\"%Y%m%d-%H%M%S\"))\n",
        "tensorboard_callback = tf.keras.callbacks.TensorBoard(logdir, histogram_freq=1,\n",
        "                                                      embeddings_freq=1)"
      ],
      "execution_count": 0,
      "outputs": []
    },
    {
      "cell_type": "markdown",
      "metadata": {
        "id": "9KPrpJEYw3te",
        "colab_type": "text"
      },
      "source": [
        "## Train"
      ]
    },
    {
      "cell_type": "code",
      "metadata": {
        "id": "hvKLJGK-w6xO",
        "colab_type": "code",
        "outputId": "8180d552-0b56-46f4-f5a5-f003eafa7cef",
        "colab": {
          "base_uri": "https://localhost:8080/",
          "height": 1000
        }
      },
      "source": [
        "EPOCH_SIZE = 10\n",
        "history  = autoencoder.fit(train_dataset, epochs=EPOCH_SIZE, \n",
        "                callbacks=[digit_plot_callback, tensorboard_callback])"
      ],
      "execution_count": 0,
      "outputs": [
        {
          "output_type": "stream",
          "text": [
            "Epoch 1/10\n",
            "  2/470 [..............................] - ETA: 1:15 - loss: 0.1691WARNING:tensorflow:Method (on_train_batch_end) is slow compared to the batch update (0.108250). Check your callbacks.\n",
            "470/470 [==============================] - 48s 103ms/step - loss: 0.0337\n",
            "Epoch 2/10\n",
            "470/470 [==============================] - 48s 103ms/step - loss: 0.0147\n",
            "Epoch 3/10\n",
            "470/470 [==============================] - 49s 104ms/step - loss: 0.0121\n",
            "Epoch 4/10\n",
            "470/470 [==============================] - 49s 104ms/step - loss: 0.0107\n",
            "Epoch 5/10\n",
            "470/470 [==============================] - 48s 103ms/step - loss: 0.0098\n",
            "Epoch 6/10\n",
            "470/470 [==============================] - 49s 105ms/step - loss: 0.0091\n",
            "Epoch 7/10\n",
            "470/470 [==============================] - 49s 105ms/step - loss: 0.0086\n",
            "Epoch 8/10\n",
            "470/470 [==============================] - 48s 103ms/step - loss: 0.0082\n",
            "Epoch 9/10\n",
            "470/470 [==============================] - 48s 103ms/step - loss: 0.0078\n",
            "Epoch 10/10\n",
            "470/470 [==============================] - 48s 102ms/step - loss: 0.0075\n"
          ],
          "name": "stdout"
        },
        {
          "output_type": "display_data",
          "data": {
            "image/png": "[encoded data removed]",
            "text/plain": [
              "<Figure size 432x288 with 4 Axes>"
            ]
          },
          "metadata": {
            "tags": [],
            "needs_background": "light"
          }
        },
        {
          "output_type": "display_data",
          "data": {
            "image/png": "[encoded data removed]",
            "text/plain": [
              "<Figure size 432x288 with 4 Axes>"
            ]
          },
          "metadata": {
            "tags": [],
            "needs_background": "light"
          }
        },
        {
          "output_type": "display_data",
          "data": {
            "image/png": "[encoded data removed]",
            "text/plain": [
              "<Figure size 432x288 with 4 Axes>"
            ]
          },
          "metadata": {
            "tags": [],
            "needs_background": "light"
          }
        },
        {
          "output_type": "display_data",
          "data": {
            "image/png": "[encoded data removed]",
            "text/plain": [
              "<Figure size 432x288 with 4 Axes>"
            ]
          },
          "metadata": {
            "tags": [],
            "needs_background": "light"
          }
        },
        {
          "output_type": "display_data",
          "data": {
            "image/png": "[encoded data removed]",
            "text/plain": [
              "<Figure size 432x288 with 4 Axes>"
            ]
          },
          "metadata": {
            "tags": [],
            "needs_background": "light"
          }
        }
      ]
    },
    {
      "cell_type": "code",
      "metadata": {
        "id": "4xujmGPfq1pc",
        "colab_type": "code",
        "colab": {}
      },
      "source": [
        "print(history.history.keys())\n",
        "print(history.history['loss'])\n",
        "plt.plot(list(range(EPOCH_SIZE)), history.history['loss'])\n",
        "plt.title('model loss')\n",
        "plt.ylabel('loss')\n",
        "plt.xlabel('epoch')\n",
        "plt.legend(['train',], loc='upper left')\n",
        "plt.show()"
      ],
      "execution_count": 0,
      "outputs": []
    },
    {
      "cell_type": "code",
      "metadata": {
        "id": "SCjEKp8JFsT1",
        "colab_type": "code",
        "colab": {}
      },
      "source": [
        "# Load the TensorBoard notebook extension\n",
        "# %load_ext tensorboard\n",
        "# %tensorboard --logdir logs"
      ],
      "execution_count": 0,
      "outputs": []
    },
    {
      "cell_type": "markdown",
      "metadata": {
        "id": "bBE8T-FpISw0",
        "colab_type": "text"
      },
      "source": [
        "\n",
        "# Visualization"
      ]
    },
    {
      "cell_type": "code",
      "metadata": {
        "id": "CXYayol_IUx6",
        "colab_type": "code",
        "colab": {}
      },
      "source": [
        "# Find test images according to their labels\n",
        "labels = []\n",
        "for idx in range(10):\n",
        "    idx_labels = np.where(test_y == idx)\n",
        "    idx_labels = np.squeeze(np.array(idx_labels))\n",
        "    labels.append(idx_labels)\n",
        "labels = np.array(labels)"
      ],
      "execution_count": 0,
      "outputs": []
    },
    {
      "cell_type": "code",
      "metadata": {
        "id": "my3ObpKLK7mC",
        "colab_type": "code",
        "colab": {}
      },
      "source": [
        "mean_latent_vectors = []\n",
        "\n",
        "plt.figure(figsize=(12, 12))\n",
        "for idx in range(10):\n",
        "    images = test_x[labels[idx]]\n",
        "    latent_vector = autoencoder.encoder(images)\n",
        "    latent_vector = np.swapaxes(latent_vector, 0, 1)\n",
        "    x, y = latent_vector\n",
        "    plt.scatter(x, y, marker='o', s=8, label=str(idx))\n",
        "    plt.legend()\n",
        "\n",
        "    # Calculcate the mean of each label\n",
        "    mean_latent_vectors.append({'mean': [np.mean(x), np.mean(y)],\n",
        "                               'variance': [np.var(x), np.var(y)]})"
      ],
      "execution_count": 0,
      "outputs": []
    },
    {
      "cell_type": "code",
      "metadata": {
        "id": "sjKidhJ2YOyI",
        "colab_type": "code",
        "colab": {}
      },
      "source": [
        "# Mean Latent Vector should give the mean of each label in latent space\n",
        "for idx in range(10):\n",
        "    mean_x, mean_y = mean_latent_vectors[idx]['mean']\n",
        "    var_x, var_y = mean_latent_vectors[idx]['variance']\n",
        "    print('#{0}: MEAN: ({1:.4f}, {2:.4f}) \\t\\t VAR: ({3:.4f}, {4:.4f})'.format(idx, mean_x, mean_y, var_x, var_y))"
      ],
      "execution_count": 0,
      "outputs": []
    },
    {
      "cell_type": "markdown",
      "metadata": {
        "id": "V7ksMj_ZUnyU",
        "colab_type": "text"
      },
      "source": [
        "# Generating new digits"
      ]
    },
    {
      "cell_type": "code",
      "metadata": {
        "id": "EEVkSq9CUx_u",
        "colab_type": "code",
        "colab": {}
      },
      "source": [
        "fig = plt.figure(figsize=(28, 28))\n",
        "for idx in range(0, 10):\n",
        "    mean_x, mean_y = mean_latent_vectors[idx]['mean']\n",
        "    var_x, var_y = mean_latent_vectors[idx]['variance']\n",
        "    # Generate new normal distribution based on the mean and var from analysis\n",
        "    # Note that z = mean + epsilon * var\n",
        "    # Where epsilon is a standard normal distribution with mean 0 and var 1\n",
        "    x = mean_x + np.random.randn() * var_x\n",
        "    y = mean_y + np.random.randn() * var_y\n",
        "    noise = np.array([x, y])\n",
        "    noise = np.expand_dims(noise, axis=0)\n",
        "\n",
        "    generated_image = autoencoder.decoder.predict(noise)\n",
        "\n",
        "    ax = fig.add_subplot(10, 1, idx + 1)\n",
        "    ax.set_title(str(idx))\n",
        "    ax.imshow(np.squeeze(generated_image))"
      ],
      "execution_count": 0,
      "outputs": []
    }
  ]
}